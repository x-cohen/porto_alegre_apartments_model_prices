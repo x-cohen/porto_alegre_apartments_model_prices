{
 "cells": [
  {
   "cell_type": "markdown",
   "metadata": {},
   "source": [
    "# Apartment pricing model for Porto Alegre\n",
    "___\n",
    "\n",
    "**Description:** Machine Learning algorithms were used to create a pricing model to predict apartament price in Porto Alegre city, in Brazil. The Final Report is available in pdf file format. The work was divided into four stages/notebooks:\n",
    "\n",
    "- Data Scaper Notebook\n",
    "- Data Wrangling Notebook\n",
    "- Data Exploration Notebbook\n",
    "- Data Modeling Notebook\n",
    "\n",
    "\n",
    "**Key Skills:**\n",
    "- Data capture with BeautifulSoup and Request\n",
    "- Data wrangling using Pandas\n",
    "- Data visualization using Ploty, Seaborn and Matplotlib\n",
    "- Descriptive statistics\n",
    "- Machine Learning using scikit-learn\n",
    "    - Features selection with eli5\n",
    "    - Algorithms: Linear Regression, Lasso, Elastic Net, K-Neighbors Regressor, Decision Tree Regressor, Support Vector Regression, AdaBoost Regressor, Gradient Boosting Regressor, RandomForestRegressor, ExtraTreesRegressor, XGBRegressor."
   ]
  },
  {
   "cell_type": "markdown",
   "metadata": {},
   "source": [
    "___\n",
    "## Data Scaper Notebook\n",
    "\n",
    "The purpose of this notebook is to collect data from Foxter Real State company site on the Internet using a Web Scraper. This is the first step into the project to estimate prices of apartaments.\n",
    "\n",
    "In this notebook, the Web Scraper will:\n",
    "- download the sitemap.xml\n",
    "- visit each page in sitempa.xml file\n",
    "- collect data of each page, but some pages will be ignored (some conditionals if are specified)\n",
    "- in each page visited, the scaper will collect new address of new pages\n",
    "- at the end, all data collected will be saved in a pandas dataframe.\n",
    "\n",
    "\n",
    "**Main Strategy**\n",
    "\n",
    "The Web Scraper was constructed, in its main core, with BeautifulSoup, Requests and Pandas. The BeautifulSoup turned easy to collect the data from every page. The Requests library made the connection possible to get the data. And Pandas was used to save the data collected into a sigle dataframe."
   ]
  },
  {
   "cell_type": "markdown",
   "metadata": {},
   "source": [
    "## Data Wrangling Notebook\n",
    "\n",
    "The purpose of this notebook is to clean the data collected from Foxter Real State company website. This is the second step into the project.\n",
    "\n",
    "This notebook will execute the actions below:\n",
    "- Drop unnecessary columns\n",
    "- Convert columns to right formats\n",
    "- Verify and clean columns\n",
    "- Identify repeated elements\n",
    "- Handling missing values - NaNs\n",
    "- Remove outliers\n",
    "- Save the final dataframe to .csv file"
   ]
  },
  {
   "cell_type": "markdown",
   "metadata": {},
   "source": [
    "#### Outliers identification\n",
    "\n",
    "![title](README_images/fig_01.jpg)\n"
   ]
  },
  {
   "cell_type": "markdown",
   "metadata": {},
   "source": [
    "___\n",
    "## Data Exploration Notebbook\n",
    "\n",
    "This notebook was prepared to show the Exploratory Data Analysis (EDA) about the real state prices in Porto Alegre (Brazil). This is the third stage in the project.\n",
    "\n",
    "\n",
    "**Research Questions**\n",
    "\n",
    "1. What are the statistics that describe the sample?\n",
    "2. What are the features that have the highest degree of correlation with each other?"
   ]
  },
  {
   "cell_type": "markdown",
   "metadata": {},
   "source": [
    "___\n",
    "**Histograms**\n",
    "\n",
    "![title](README_images/fig_02.png)\n",
    "\n",
    "\n",
    "___\n",
    "**Charts**\n",
    "![title](README_images/fig_03.jpg)\n",
    "\n",
    "\n",
    "___\n",
    "**Boxplots**\n",
    "![title](README_images/fig_04.jpg)\n",
    "\n",
    "\n",
    "___\n",
    "**Pairplots**\n",
    "![title](README_images/fig_05.jpg)\n",
    "\n",
    "![title](README_images/fig_08.jpg)\n",
    "\n",
    "\n",
    "\n"
   ]
  },
  {
   "cell_type": "markdown",
   "metadata": {},
   "source": [
    "___\n",
    "**Correlations**\n",
    "![title](README_images/fig_06.jpg)\n",
    "\n",
    "\n",
    "___\n",
    "**Scatter Plots**\n",
    "![title](README_images/fig_07.jpg)"
   ]
  },
  {
   "cell_type": "markdown",
   "metadata": {},
   "source": [
    "___\n",
    "## Data Modeling Notebook\n",
    "\n",
    "The purpose of this notebook is to develop a machine learning model to predict apartments prices. This is the fourth notebook into the project, and here we have:\n",
    "\n",
    "1. Import and check the dataset\n",
    "2. Feature Engeneering: Transform categorical variables to dummies\n",
    "3. Make train and test spit\n",
    "4. Make features selection\n",
    "5. Create a baseline model\n",
    "6. Evaluate algorithms\n",
    "7. Tune the best\n",
    "8. Specify a final model\n",
    "9. Predict the price of a particular property\n",
    "\n",
    "\n",
    "#### Research Questions\n",
    "\n",
    "**Main Question:**\n",
    "- What is the selling price of a used apartment in the city of Porto Alegre?\n",
    "\n",
    "**Secondary Questions:**\n",
    "1. What is the best algorithm for the sample studied?\n",
    "2. What attributes have the most influence on the sale price?\n",
    "\n",
    "\n"
   ]
  },
  {
   "cell_type": "markdown",
   "metadata": {},
   "source": [
    "___\n",
    "**Features Selection**\n",
    "![title](README_images/fig_09.jpg)\n",
    "\n",
    "\n",
    "___\n",
    "**Algorithms Comparation**\n",
    "![title](README_images/fig_10.jpg)\n",
    "\n",
    "___\n",
    "**Final Model Features**\n",
    "![title](README_images/fig_11.jpg)\n",
    "\n"
   ]
  },
  {
   "cell_type": "code",
   "execution_count": null,
   "metadata": {},
   "outputs": [],
   "source": []
  }
 ],
 "metadata": {
  "kernelspec": {
   "display_name": "Python 3",
   "language": "python",
   "name": "python3"
  },
  "language_info": {
   "codemirror_mode": {
    "name": "ipython",
    "version": 3
   },
   "file_extension": ".py",
   "mimetype": "text/x-python",
   "name": "python",
   "nbconvert_exporter": "python",
   "pygments_lexer": "ipython3",
   "version": "3.6.8"
  }
 },
 "nbformat": 4,
 "nbformat_minor": 2
}
