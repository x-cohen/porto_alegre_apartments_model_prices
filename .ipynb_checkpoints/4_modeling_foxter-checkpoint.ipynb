{
 "cells": [
  {
   "cell_type": "markdown",
   "metadata": {},
   "source": [
    "# Create a predictive pricing model for apartments in Porto Alegre\n",
    "\n",
    "### Summary\n",
    "\n",
    "The purpose of this notebook is to develop a machine learning model to predict apartments prices in Porto Alegre (Brazil). This is the fourth notebook into the project, and here we have:\n",
    "\n",
    "1. Import and check the dataset\n",
    "2. Feature Engeneering: Transform categorical variables to dummies\n",
    "3. Make train and test spit\n",
    "4. Make features selection\n",
    "5. Create a baseline model\n",
    "6. Evaluate algorithms\n",
    "7. Tune the best\n",
    "8. Specify a final model\n",
    "9. Predict the price of a particular property\n",
    "\n",
    "\n",
    "### Research Questions\n",
    "\n",
    "#### Main Question:\n",
    "What is the selling price of a used apartment in the city of Porto Alegre?\n",
    "\n",
    "#### Secondary Questions:\n",
    "1. What is the best algorithm for the sample studied?\n",
    "2. What attributes have the most influence on the sale price?\n",
    "\n"
   ]
  },
  {
   "cell_type": "markdown",
   "metadata": {},
   "source": [
    "___\n",
    "## Import modules"
   ]
  },
  {
   "cell_type": "code",
   "execution_count": 55,
   "metadata": {},
   "outputs": [
    {
     "data": {
      "text/html": [
       "<script type=\"text/javascript\">window.PlotlyConfig = {MathJaxConfig: 'local'};</script><script type=\"text/javascript\">if (window.MathJax) {MathJax.Hub.Config({SVG: {font: \"STIX-Web\"}});}</script><script>requirejs.config({paths: { 'plotly': ['https://cdn.plot.ly/plotly-latest.min']},});if(!window._Plotly) {require(['plotly'],function(plotly) {window._Plotly=plotly;});}</script>"
      ],
      "text/vnd.plotly.v1+html": [
       "<script type=\"text/javascript\">window.PlotlyConfig = {MathJaxConfig: 'local'};</script><script type=\"text/javascript\">if (window.MathJax) {MathJax.Hub.Config({SVG: {font: \"STIX-Web\"}});}</script><script>requirejs.config({paths: { 'plotly': ['https://cdn.plot.ly/plotly-latest.min']},});if(!window._Plotly) {require(['plotly'],function(plotly) {window._Plotly=plotly;});}</script>"
      ]
     },
     "metadata": {},
     "output_type": "display_data"
    }
   ],
   "source": [
    "import warnings\n",
    "warnings.filterwarnings(\"ignore\")\n",
    "\n",
    "import numpy as np\n",
    "import time\n",
    "import pandas as pd\n",
    "import plotly.plotly as py\n",
    "import matplotlib.pyplot as plt\n",
    "import seaborn as sns\n",
    "\n",
    "from sklearn.model_selection import train_test_split\n",
    "\n",
    "# Features Selection\n",
    "from sklearn.ensemble import RandomForestRegressor\n",
    "import eli5\n",
    "from eli5.sklearn import PermutationImportance\n",
    "from sklearn.feature_selection import SelectFromModel\n",
    "\n",
    "# modelos de regressão\n",
    "from sklearn.linear_model import LinearRegression\n",
    "from sklearn.linear_model import Lasso\n",
    "from sklearn.linear_model import ElasticNet\n",
    "from sklearn.tree import DecisionTreeRegressor\n",
    "from sklearn.neighbors import KNeighborsRegressor\n",
    "from sklearn.svm import SVR\n",
    "from sklearn.ensemble import GradientBoostingRegressor\n",
    "from sklearn.ensemble import ExtraTreesRegressor\n",
    "from sklearn.ensemble import AdaBoostRegressor\n",
    "\n",
    "#because XGB has an error\n",
    "import os \n",
    "os.environ['KMP_DUPLICATE_LIB_OK']='True'\n",
    "from xgboost import XGBRegressor\n",
    "\n",
    "#from numpy import arange\n",
    "\n",
    "#from pandas import read_csv\n",
    "#from pandas import set_option\n",
    "#from pandas.plotting import scatter_matrix\n",
    "from sklearn.preprocessing import StandardScaler\n",
    "from sklearn.pipeline import Pipeline\n",
    "\n",
    "# para avaliação dos modelos\n",
    "from sklearn.model_selection import KFold\n",
    "from sklearn.model_selection import cross_val_score\n",
    "from sklearn.model_selection import GridSearchCV\n",
    "from sklearn.metrics import mean_squared_error\n",
    "from sklearn.metrics import mean_absolute_error\n",
    "from sklearn.metrics import explained_variance_score\n",
    "from sklearn.metrics import r2_score\n",
    "\n",
    "# na seção para identificar outliers\n",
    "from plotly.offline import download_plotlyjs, init_notebook_mode, plot, iplot\n",
    "init_notebook_mode(connected=True)\n",
    "import plotly.plotly as py\n",
    "import plotly.graph_objs as go\n",
    "\n",
    "%matplotlib inline\n",
    "%config InlineBackend.figure_format = 'retina'\n",
    "\n",
    "seed = 7"
   ]
  },
  {
   "cell_type": "markdown",
   "metadata": {},
   "source": [
    "___\n",
    "## Import dataset\n",
    "\n",
    "Import the dataset and check if all columns are correct."
   ]
  },
  {
   "cell_type": "code",
   "execution_count": 2,
   "metadata": {},
   "outputs": [
    {
     "name": "stdout",
     "output_type": "stream",
     "text": [
      "Total of rows: 226\n"
     ]
    }
   ],
   "source": [
    "df = pd.read_csv('wrangled_eda_foxter.csv', sep='\\t', decimal=',')\n",
    "\n",
    "print(\"Total of rows:\", df.shape[0])"
   ]
  },
  {
   "cell_type": "code",
   "execution_count": 3,
   "metadata": {
    "scrolled": true
   },
   "outputs": [
    {
     "name": "stdout",
     "output_type": "stream",
     "text": [
      "<class 'pandas.core.frame.DataFrame'>\n",
      "RangeIndex: 226 entries, 0 to 225\n",
      "Data columns (total 8 columns):\n",
      "Unnamed: 0     226 non-null int64\n",
      "price          226 non-null object\n",
      "area           226 non-null object\n",
      "district       226 non-null object\n",
      "condominium    226 non-null object\n",
      "iptu           226 non-null object\n",
      "rooms          226 non-null int64\n",
      "box            226 non-null int64\n",
      "dtypes: int64(3), object(5)\n",
      "memory usage: 14.2+ KB\n"
     ]
    }
   ],
   "source": [
    "df.info()"
   ]
  },
  {
   "cell_type": "code",
   "execution_count": 4,
   "metadata": {},
   "outputs": [],
   "source": [
    "# Drop unnecessary column\n",
    "df.drop(['Unnamed: 0'], axis = 1, inplace = True)"
   ]
  },
  {
   "cell_type": "code",
   "execution_count": 5,
   "metadata": {},
   "outputs": [],
   "source": [
    "# Adjust columns types\n",
    "df['price'] = df['price'].astype(float)\n",
    "df['area'] = df['area'].astype(float)\n",
    "df['condominium'] = df['condominium'].astype(float)\n",
    "df['iptu'] = df['iptu'].astype(float)"
   ]
  },
  {
   "cell_type": "code",
   "execution_count": 6,
   "metadata": {},
   "outputs": [
    {
     "data": {
      "text/html": [
       "<div>\n",
       "<style scoped>\n",
       "    .dataframe tbody tr th:only-of-type {\n",
       "        vertical-align: middle;\n",
       "    }\n",
       "\n",
       "    .dataframe tbody tr th {\n",
       "        vertical-align: top;\n",
       "    }\n",
       "\n",
       "    .dataframe thead th {\n",
       "        text-align: right;\n",
       "    }\n",
       "</style>\n",
       "<table border=\"1\" class=\"dataframe\">\n",
       "  <thead>\n",
       "    <tr style=\"text-align: right;\">\n",
       "      <th></th>\n",
       "      <th>price</th>\n",
       "      <th>area</th>\n",
       "      <th>district</th>\n",
       "      <th>condominium</th>\n",
       "      <th>iptu</th>\n",
       "      <th>rooms</th>\n",
       "      <th>box</th>\n",
       "    </tr>\n",
       "  </thead>\n",
       "  <tbody>\n",
       "    <tr>\n",
       "      <th>0</th>\n",
       "      <td>670000.0</td>\n",
       "      <td>74.43</td>\n",
       "      <td>Mont Serrat</td>\n",
       "      <td>717.0</td>\n",
       "      <td>1400.0</td>\n",
       "      <td>2</td>\n",
       "      <td>1</td>\n",
       "    </tr>\n",
       "    <tr>\n",
       "      <th>1</th>\n",
       "      <td>990000.0</td>\n",
       "      <td>104.83</td>\n",
       "      <td>Bela Vista</td>\n",
       "      <td>800.0</td>\n",
       "      <td>3070.0</td>\n",
       "      <td>3</td>\n",
       "      <td>2</td>\n",
       "    </tr>\n",
       "    <tr>\n",
       "      <th>2</th>\n",
       "      <td>1750000.0</td>\n",
       "      <td>203.37</td>\n",
       "      <td>Bela Vista</td>\n",
       "      <td>1850.0</td>\n",
       "      <td>4500.0</td>\n",
       "      <td>4</td>\n",
       "      <td>3</td>\n",
       "    </tr>\n",
       "    <tr>\n",
       "      <th>3</th>\n",
       "      <td>1800000.0</td>\n",
       "      <td>138.79</td>\n",
       "      <td>Bela Vista</td>\n",
       "      <td>1100.0</td>\n",
       "      <td>3600.0</td>\n",
       "      <td>3</td>\n",
       "      <td>3</td>\n",
       "    </tr>\n",
       "    <tr>\n",
       "      <th>4</th>\n",
       "      <td>1925000.0</td>\n",
       "      <td>154.11</td>\n",
       "      <td>Auxiliadora</td>\n",
       "      <td>1000.0</td>\n",
       "      <td>4000.0</td>\n",
       "      <td>3</td>\n",
       "      <td>4</td>\n",
       "    </tr>\n",
       "  </tbody>\n",
       "</table>\n",
       "</div>"
      ],
      "text/plain": [
       "       price    area     district  condominium    iptu  rooms  box\n",
       "0   670000.0   74.43  Mont Serrat        717.0  1400.0      2    1\n",
       "1   990000.0  104.83   Bela Vista        800.0  3070.0      3    2\n",
       "2  1750000.0  203.37   Bela Vista       1850.0  4500.0      4    3\n",
       "3  1800000.0  138.79   Bela Vista       1100.0  3600.0      3    3\n",
       "4  1925000.0  154.11  Auxiliadora       1000.0  4000.0      3    4"
      ]
     },
     "execution_count": 6,
     "metadata": {},
     "output_type": "execute_result"
    }
   ],
   "source": [
    "df.head()"
   ]
  },
  {
   "cell_type": "code",
   "execution_count": 7,
   "metadata": {},
   "outputs": [
    {
     "name": "stdout",
     "output_type": "stream",
     "text": [
      "<class 'pandas.core.frame.DataFrame'>\n",
      "RangeIndex: 226 entries, 0 to 225\n",
      "Data columns (total 7 columns):\n",
      "price          226 non-null float64\n",
      "area           226 non-null float64\n",
      "district       226 non-null object\n",
      "condominium    226 non-null float64\n",
      "iptu           226 non-null float64\n",
      "rooms          226 non-null int64\n",
      "box            226 non-null int64\n",
      "dtypes: float64(4), int64(2), object(1)\n",
      "memory usage: 12.4+ KB\n"
     ]
    }
   ],
   "source": [
    "df.info()"
   ]
  },
  {
   "cell_type": "markdown",
   "metadata": {},
   "source": [
    "___\n",
    "## Initial Description\n",
    "\n",
    "Identify the categories of variables, count and group."
   ]
  },
  {
   "cell_type": "code",
   "execution_count": 8,
   "metadata": {},
   "outputs": [
    {
     "name": "stdout",
     "output_type": "stream",
     "text": [
      "\n",
      "\n",
      "Variables:  ['price', 'area', 'district', 'condominium', 'iptu', 'rooms', 'box'] \n",
      "\n",
      "Total:  7 \n",
      "\n"
     ]
    }
   ],
   "source": [
    "# Variables\n",
    "\n",
    "print('\\n\\nVariables: ', list(df), '\\n')\n",
    "print('Total: ',df.shape[1], '\\n')"
   ]
  },
  {
   "cell_type": "code",
   "execution_count": 9,
   "metadata": {},
   "outputs": [],
   "source": [
    "# One continum and quatitative variable \"target\": price\n",
    "\n",
    "target = ['price']"
   ]
  },
  {
   "cell_type": "code",
   "execution_count": 10,
   "metadata": {},
   "outputs": [
    {
     "name": "stdout",
     "output_type": "stream",
     "text": [
      "Quantitative features:  ['rooms', 'box', 'iptu', 'condominium', 'area']\n",
      "Total:  5\n"
     ]
    }
   ],
   "source": [
    "# Quantitative features\n",
    "\n",
    "features_quanti = list(set(list(df.select_dtypes(include=['float64', 'int64']).columns)) - set(target))\n",
    "print('Quantitative features: ', features_quanti)\n",
    "print('Total: ', len(features_quanti))"
   ]
  },
  {
   "cell_type": "code",
   "execution_count": 11,
   "metadata": {},
   "outputs": [
    {
     "name": "stdout",
     "output_type": "stream",
     "text": [
      "Categorical Features:  ['district']\n",
      "Total:  1\n"
     ]
    }
   ],
   "source": [
    "# Categorical Features\n",
    "\n",
    "features_cat = list(df.select_dtypes(include=['category', 'object']).columns)\n",
    "print('Categorical Features: ', features_cat)\n",
    "print('Total: ', len(features_cat))"
   ]
  },
  {
   "cell_type": "code",
   "execution_count": 12,
   "metadata": {},
   "outputs": [
    {
     "name": "stdout",
     "output_type": "stream",
     "text": [
      "['rooms', 'box', 'iptu', 'condominium', 'area', 'district']\n"
     ]
    }
   ],
   "source": [
    "# All features\n",
    "\n",
    "features_list = features_quanti + features_cat\n",
    "print(features_list)"
   ]
  },
  {
   "cell_type": "markdown",
   "metadata": {},
   "source": [
    "___\n",
    "## Feature Engineering\n",
    "\n",
    "Transform categorical variables into dummies."
   ]
  },
  {
   "cell_type": "code",
   "execution_count": 13,
   "metadata": {},
   "outputs": [],
   "source": [
    "# Make a copy from origial df\n",
    "\n",
    "df_original = df.copy()"
   ]
  },
  {
   "cell_type": "code",
   "execution_count": 14,
   "metadata": {},
   "outputs": [
    {
     "data": {
      "text/html": [
       "<div>\n",
       "<style scoped>\n",
       "    .dataframe tbody tr th:only-of-type {\n",
       "        vertical-align: middle;\n",
       "    }\n",
       "\n",
       "    .dataframe tbody tr th {\n",
       "        vertical-align: top;\n",
       "    }\n",
       "\n",
       "    .dataframe thead th {\n",
       "        text-align: right;\n",
       "    }\n",
       "</style>\n",
       "<table border=\"1\" class=\"dataframe\">\n",
       "  <thead>\n",
       "    <tr style=\"text-align: right;\">\n",
       "      <th></th>\n",
       "      <th>price</th>\n",
       "      <th>area</th>\n",
       "      <th>condominium</th>\n",
       "      <th>iptu</th>\n",
       "      <th>rooms</th>\n",
       "      <th>box</th>\n",
       "      <th>district_Auxiliadora</th>\n",
       "      <th>district_Bela Vista</th>\n",
       "      <th>district_Mont Serrat</th>\n",
       "    </tr>\n",
       "  </thead>\n",
       "  <tbody>\n",
       "    <tr>\n",
       "      <th>0</th>\n",
       "      <td>670000.0</td>\n",
       "      <td>74.43</td>\n",
       "      <td>717.0</td>\n",
       "      <td>1400.0</td>\n",
       "      <td>2</td>\n",
       "      <td>1</td>\n",
       "      <td>0</td>\n",
       "      <td>0</td>\n",
       "      <td>1</td>\n",
       "    </tr>\n",
       "    <tr>\n",
       "      <th>1</th>\n",
       "      <td>990000.0</td>\n",
       "      <td>104.83</td>\n",
       "      <td>800.0</td>\n",
       "      <td>3070.0</td>\n",
       "      <td>3</td>\n",
       "      <td>2</td>\n",
       "      <td>0</td>\n",
       "      <td>1</td>\n",
       "      <td>0</td>\n",
       "    </tr>\n",
       "    <tr>\n",
       "      <th>2</th>\n",
       "      <td>1750000.0</td>\n",
       "      <td>203.37</td>\n",
       "      <td>1850.0</td>\n",
       "      <td>4500.0</td>\n",
       "      <td>4</td>\n",
       "      <td>3</td>\n",
       "      <td>0</td>\n",
       "      <td>1</td>\n",
       "      <td>0</td>\n",
       "    </tr>\n",
       "    <tr>\n",
       "      <th>3</th>\n",
       "      <td>1800000.0</td>\n",
       "      <td>138.79</td>\n",
       "      <td>1100.0</td>\n",
       "      <td>3600.0</td>\n",
       "      <td>3</td>\n",
       "      <td>3</td>\n",
       "      <td>0</td>\n",
       "      <td>1</td>\n",
       "      <td>0</td>\n",
       "    </tr>\n",
       "    <tr>\n",
       "      <th>4</th>\n",
       "      <td>1925000.0</td>\n",
       "      <td>154.11</td>\n",
       "      <td>1000.0</td>\n",
       "      <td>4000.0</td>\n",
       "      <td>3</td>\n",
       "      <td>4</td>\n",
       "      <td>1</td>\n",
       "      <td>0</td>\n",
       "      <td>0</td>\n",
       "    </tr>\n",
       "  </tbody>\n",
       "</table>\n",
       "</div>"
      ],
      "text/plain": [
       "       price    area  condominium    iptu  rooms  box  district_Auxiliadora  \\\n",
       "0   670000.0   74.43        717.0  1400.0      2    1                     0   \n",
       "1   990000.0  104.83        800.0  3070.0      3    2                     0   \n",
       "2  1750000.0  203.37       1850.0  4500.0      4    3                     0   \n",
       "3  1800000.0  138.79       1100.0  3600.0      3    3                     0   \n",
       "4  1925000.0  154.11       1000.0  4000.0      3    4                     1   \n",
       "\n",
       "   district_Bela Vista  district_Mont Serrat  \n",
       "0                    0                     1  \n",
       "1                    1                     0  \n",
       "2                    1                     0  \n",
       "3                    1                     0  \n",
       "4                    0                     0  "
      ]
     },
     "execution_count": 14,
     "metadata": {},
     "output_type": "execute_result"
    }
   ],
   "source": [
    "# Transform district variable into dummies\n",
    "\n",
    "df = pd.get_dummies(df, columns=features_cat, drop_first=False)\n",
    "df.head()"
   ]
  },
  {
   "cell_type": "code",
   "execution_count": 15,
   "metadata": {},
   "outputs": [
    {
     "name": "stdout",
     "output_type": "stream",
     "text": [
      "['area', 'box', 'condominium', 'district_Auxiliadora', 'district_Bela Vista', 'district_Mont Serrat', 'iptu', 'rooms']\n"
     ]
    }
   ],
   "source": [
    "# List all features after dummy\n",
    "\n",
    "all_variables_list = list(df.columns)\n",
    "features_list_dum = list(set(all_variables_list) - set(target))\n",
    "features_list_dum.sort()\n",
    "\n",
    "print(features_list_dum)"
   ]
  },
  {
   "cell_type": "markdown",
   "metadata": {},
   "source": [
    "___\n",
    "## Train and Test Split\n",
    "\n",
    "Divide the initial dataset into a X set and Y set. Then divide X and Y sets into train and test."
   ]
  },
  {
   "cell_type": "code",
   "execution_count": 16,
   "metadata": {},
   "outputs": [],
   "source": [
    "X = df.drop(['price'], axis=1)\n",
    "Y = df['price']"
   ]
  },
  {
   "cell_type": "code",
   "execution_count": 17,
   "metadata": {},
   "outputs": [],
   "source": [
    "# Separate train and test\n",
    "\n",
    "X_train, X_test, Y_train, Y_test = train_test_split(\n",
    "    X, Y, test_size=0.25, random_state=seed, shuffle=True)"
   ]
  },
  {
   "cell_type": "code",
   "execution_count": 18,
   "metadata": {},
   "outputs": [
    {
     "name": "stdout",
     "output_type": "stream",
     "text": [
      "(226, 8) (169, 8) (57, 8)\n"
     ]
    }
   ],
   "source": [
    "print(X.shape, X_train.shape, X_test.shape)"
   ]
  },
  {
   "cell_type": "markdown",
   "metadata": {},
   "source": [
    "___\n",
    "## Features Selection\n",
    "\n",
    "In this section, it will be used Random Forest algorithm and eli5 Permutation Importance to do the features selection. The R2 score was chosen as the evaluation measure."
   ]
  },
  {
   "cell_type": "markdown",
   "metadata": {},
   "source": [
    "### Features Selection with Random Forest"
   ]
  },
  {
   "cell_type": "code",
   "execution_count": 19,
   "metadata": {},
   "outputs": [
    {
     "data": {
      "text/plain": [
       "RandomForestRegressor(bootstrap=True, criterion='mse', max_depth=None,\n",
       "           max_features='auto', max_leaf_nodes=None,\n",
       "           min_impurity_decrease=0.0, min_impurity_split=None,\n",
       "           min_samples_leaf=1, min_samples_split=2,\n",
       "           min_weight_fraction_leaf=0.0, n_estimators=10, n_jobs=6,\n",
       "           oob_score=False, random_state=7, verbose=0, warm_start=False)"
      ]
     },
     "execution_count": 19,
     "metadata": {},
     "output_type": "execute_result"
    }
   ],
   "source": [
    "model_features_rf = RandomForestRegressor(n_jobs=6, random_state=seed)\n",
    "model_features_rf.fit(X_train, Y_train)"
   ]
  },
  {
   "cell_type": "code",
   "execution_count": 20,
   "metadata": {},
   "outputs": [
    {
     "name": "stdout",
     "output_type": "stream",
     "text": [
      "R2: 0.90\n"
     ]
    }
   ],
   "source": [
    "# Initial Score R2 as an evalutation measure \n",
    "\n",
    "predictions = model_features_rf.predict(X_test)\n",
    "score = r2_score(Y_test, predictions)\n",
    "print(\"R2: %.2f\"% (score))"
   ]
  },
  {
   "cell_type": "code",
   "execution_count": 21,
   "metadata": {},
   "outputs": [
    {
     "name": "stdout",
     "output_type": "stream",
     "text": [
      "Total > 0: 8\n",
      "Total >= 0.0001: 8\n"
     ]
    },
    {
     "data": {
      "text/html": [
       "<div>\n",
       "<style scoped>\n",
       "    .dataframe tbody tr th:only-of-type {\n",
       "        vertical-align: middle;\n",
       "    }\n",
       "\n",
       "    .dataframe tbody tr th {\n",
       "        vertical-align: top;\n",
       "    }\n",
       "\n",
       "    .dataframe thead th {\n",
       "        text-align: right;\n",
       "    }\n",
       "</style>\n",
       "<table border=\"1\" class=\"dataframe\">\n",
       "  <thead>\n",
       "    <tr style=\"text-align: right;\">\n",
       "      <th></th>\n",
       "      <th>importance</th>\n",
       "    </tr>\n",
       "  </thead>\n",
       "  <tbody>\n",
       "    <tr>\n",
       "      <th>box</th>\n",
       "      <td>0.894751</td>\n",
       "    </tr>\n",
       "    <tr>\n",
       "      <th>condominium</th>\n",
       "      <td>0.039446</td>\n",
       "    </tr>\n",
       "    <tr>\n",
       "      <th>iptu</th>\n",
       "      <td>0.032659</td>\n",
       "    </tr>\n",
       "    <tr>\n",
       "      <th>area</th>\n",
       "      <td>0.023000</td>\n",
       "    </tr>\n",
       "    <tr>\n",
       "      <th>rooms</th>\n",
       "      <td>0.005693</td>\n",
       "    </tr>\n",
       "    <tr>\n",
       "      <th>district_Auxiliadora</th>\n",
       "      <td>0.002826</td>\n",
       "    </tr>\n",
       "    <tr>\n",
       "      <th>district_Bela Vista</th>\n",
       "      <td>0.001131</td>\n",
       "    </tr>\n",
       "    <tr>\n",
       "      <th>district_Mont Serrat</th>\n",
       "      <td>0.000496</td>\n",
       "    </tr>\n",
       "  </tbody>\n",
       "</table>\n",
       "</div>"
      ],
      "text/plain": [
       "                      importance\n",
       "box                     0.894751\n",
       "condominium             0.039446\n",
       "iptu                    0.032659\n",
       "area                    0.023000\n",
       "rooms                   0.005693\n",
       "district_Auxiliadora    0.002826\n",
       "district_Bela Vista     0.001131\n",
       "district_Mont Serrat    0.000496"
      ]
     },
     "execution_count": 21,
     "metadata": {},
     "output_type": "execute_result"
    }
   ],
   "source": [
    "# Features importance identification\n",
    "\n",
    "features_rf = pd.DataFrame(model_features_rf.feature_importances_,\n",
    "                                   index = X_train.columns,\n",
    "                                    columns=['importance']).sort_values('importance', ascending=False)\n",
    "\n",
    "features_rf = features_rf[features_rf['importance'] > 0]\n",
    "print(\"Total > 0:\", len(features_rf))\n",
    "features_rf = features_rf[features_rf['importance'] >= 0.0001]\n",
    "print(\"Total >= 0.0001:\", len(features_rf))\n",
    "\n",
    "features_rf"
   ]
  },
  {
   "cell_type": "markdown",
   "metadata": {},
   "source": [
    "___\n",
    "### Using eli5 Permutation Importance to Features Selection with RF"
   ]
  },
  {
   "cell_type": "code",
   "execution_count": 22,
   "metadata": {},
   "outputs": [],
   "source": [
    "perm_rf = PermutationImportance(model_features_rf, \n",
    "                                cv = None, \n",
    "                                refit = False, \n",
    "                                random_state=seed).fit(X_test, Y_test)    "
   ]
  },
  {
   "cell_type": "code",
   "execution_count": 23,
   "metadata": {},
   "outputs": [],
   "source": [
    "# function for creating a feature importance dataframe\n",
    "\n",
    "def imp_df(column_names, importances):\n",
    "    df = pd.DataFrame({'feature': column_names,\n",
    "                       'feature_importance': importances}) \\\n",
    "           .sort_values('feature_importance', ascending = False) \\\n",
    "           .reset_index(drop = True)\n",
    "    return df\n",
    "\n",
    "# plotting a feature importance dataframe (horizontal barchart)\n",
    "def var_imp_plot(imp_df, title):\n",
    "    imp_df.columns = ['feature', 'feature_importance']\n",
    "    plt.figure(figsize=(7,5))\n",
    "    sns.barplot(x = 'feature_importance', y = 'feature', data = imp_df, orient = 'h', color = 'royalblue') \\\n",
    "       .set_title(title, fontsize = 15)"
   ]
  },
  {
   "cell_type": "code",
   "execution_count": 24,
   "metadata": {},
   "outputs": [
    {
     "data": {
      "image/png": "[encoded data removed]",
      "text/plain": [
       "<Figure size 504x360 with 1 Axes>"
      ]
     },
     "metadata": {
      "image/png": {
       "height": 334,
       "width": 526
      },
      "needs_background": "light"
     },
     "output_type": "display_data"
    }
   ],
   "source": [
    "perm_imp_eli5_rf = imp_df(X_train.columns, perm_rf.feature_importances_)\n",
    "var_imp_plot(perm_imp_eli5_rf, 'Permutation feature importance (eli5)')"
   ]
  },
  {
   "cell_type": "code",
   "execution_count": 25,
   "metadata": {},
   "outputs": [
    {
     "name": "stdout",
     "output_type": "stream",
     "text": [
      "Total: 8\n",
      "Total > 0.0001: 5\n"
     ]
    }
   ],
   "source": [
    "print(\"Total:\", len(perm_imp_eli5_rf))\n",
    "print(\"Total > 0.0001:\", len(perm_imp_eli5_rf[perm_imp_eli5_rf[\"feature_importance\"]>0.0001]))"
   ]
  },
  {
   "cell_type": "code",
   "execution_count": 26,
   "metadata": {},
   "outputs": [
    {
     "data": {
      "text/html": [
       "\n",
       "    <style>\n",
       "    table.eli5-weights tr:hover {\n",
       "        filter: brightness(85%);\n",
       "    }\n",
       "</style>\n",
       "\n",
       "\n",
       "\n",
       "    \n",
       "\n",
       "    \n",
       "\n",
       "    \n",
       "\n",
       "    \n",
       "\n",
       "    \n",
       "\n",
       "    \n",
       "\n",
       "\n",
       "    \n",
       "\n",
       "    \n",
       "\n",
       "    \n",
       "\n",
       "    \n",
       "\n",
       "    \n",
       "\n",
       "    \n",
       "\n",
       "\n",
       "    \n",
       "\n",
       "    \n",
       "\n",
       "    \n",
       "\n",
       "    \n",
       "\n",
       "    \n",
       "        <table class=\"eli5-weights eli5-feature-importances\" style=\"border-collapse: collapse; border: none; margin-top: 0em; table-layout: auto;\">\n",
       "    <thead>\n",
       "    <tr style=\"border: none;\">\n",
       "        <th style=\"padding: 0 1em 0 0.5em; text-align: right; border: none;\">Weight</th>\n",
       "        <th style=\"padding: 0 0.5em 0 0.5em; text-align: left; border: none;\">Feature</th>\n",
       "    </tr>\n",
       "    </thead>\n",
       "    <tbody>\n",
       "    \n",
       "        <tr style=\"background-color: hsl(120, 100.00%, 80.00%); border: none;\">\n",
       "            <td style=\"padding: 0 1em 0 0.5em; text-align: right; border: none;\">\n",
       "                1.2052\n",
       "                \n",
       "                    &plusmn; 0.5266\n",
       "                \n",
       "            </td>\n",
       "            <td style=\"padding: 0 0.5em 0 0.5em; text-align: left; border: none;\">\n",
       "                box\n",
       "            </td>\n",
       "        </tr>\n",
       "    \n",
       "        <tr style=\"background-color: hsl(120, 100.00%, 98.83%); border: none;\">\n",
       "            <td style=\"padding: 0 1em 0 0.5em; text-align: right; border: none;\">\n",
       "                0.0208\n",
       "                \n",
       "                    &plusmn; 0.0091\n",
       "                \n",
       "            </td>\n",
       "            <td style=\"padding: 0 0.5em 0 0.5em; text-align: left; border: none;\">\n",
       "                condominium\n",
       "            </td>\n",
       "        </tr>\n",
       "    \n",
       "        <tr style=\"background-color: hsl(120, 100.00%, 99.31%); border: none;\">\n",
       "            <td style=\"padding: 0 1em 0 0.5em; text-align: right; border: none;\">\n",
       "                0.0098\n",
       "                \n",
       "                    &plusmn; 0.0124\n",
       "                \n",
       "            </td>\n",
       "            <td style=\"padding: 0 0.5em 0 0.5em; text-align: left; border: none;\">\n",
       "                area\n",
       "            </td>\n",
       "        </tr>\n",
       "    \n",
       "        <tr style=\"background-color: hsl(120, 100.00%, 99.54%); border: none;\">\n",
       "            <td style=\"padding: 0 1em 0 0.5em; text-align: right; border: none;\">\n",
       "                0.0055\n",
       "                \n",
       "                    &plusmn; 0.0090\n",
       "                \n",
       "            </td>\n",
       "            <td style=\"padding: 0 0.5em 0 0.5em; text-align: left; border: none;\">\n",
       "                iptu\n",
       "            </td>\n",
       "        </tr>\n",
       "    \n",
       "        <tr style=\"background-color: hsl(120, 100.00%, 99.91%); border: none;\">\n",
       "            <td style=\"padding: 0 1em 0 0.5em; text-align: right; border: none;\">\n",
       "                0.0006\n",
       "                \n",
       "                    &plusmn; 0.0018\n",
       "                \n",
       "            </td>\n",
       "            <td style=\"padding: 0 0.5em 0 0.5em; text-align: left; border: none;\">\n",
       "                rooms\n",
       "            </td>\n",
       "        </tr>\n",
       "    \n",
       "        <tr style=\"background-color: hsl(0, 100.00%, 99.97%); border: none;\">\n",
       "            <td style=\"padding: 0 1em 0 0.5em; text-align: right; border: none;\">\n",
       "                -0.0001\n",
       "                \n",
       "                    &plusmn; 0.0026\n",
       "                \n",
       "            </td>\n",
       "            <td style=\"padding: 0 0.5em 0 0.5em; text-align: left; border: none;\">\n",
       "                district_Bela Vista\n",
       "            </td>\n",
       "        </tr>\n",
       "    \n",
       "        <tr style=\"background-color: hsl(0, 100.00%, 99.94%); border: none;\">\n",
       "            <td style=\"padding: 0 1em 0 0.5em; text-align: right; border: none;\">\n",
       "                -0.0003\n",
       "                \n",
       "                    &plusmn; 0.0003\n",
       "                \n",
       "            </td>\n",
       "            <td style=\"padding: 0 0.5em 0 0.5em; text-align: left; border: none;\">\n",
       "                district_Mont Serrat\n",
       "            </td>\n",
       "        </tr>\n",
       "    \n",
       "        <tr style=\"background-color: hsl(0, 100.00%, 99.88%); border: none;\">\n",
       "            <td style=\"padding: 0 1em 0 0.5em; text-align: right; border: none;\">\n",
       "                -0.0008\n",
       "                \n",
       "                    &plusmn; 0.0067\n",
       "                \n",
       "            </td>\n",
       "            <td style=\"padding: 0 0.5em 0 0.5em; text-align: left; border: none;\">\n",
       "                district_Auxiliadora\n",
       "            </td>\n",
       "        </tr>\n",
       "    \n",
       "    \n",
       "    </tbody>\n",
       "</table>\n",
       "    \n",
       "\n",
       "    \n",
       "\n",
       "\n",
       "    \n",
       "\n",
       "    \n",
       "\n",
       "    \n",
       "\n",
       "    \n",
       "\n",
       "    \n",
       "\n",
       "    \n",
       "\n",
       "\n",
       "\n"
      ],
      "text/plain": [
       "<IPython.core.display.HTML object>"
      ]
     },
     "execution_count": 26,
     "metadata": {},
     "output_type": "execute_result"
    }
   ],
   "source": [
    "eli5.show_weights(perm_rf, feature_names = X_train.columns.tolist())"
   ]
  },
  {
   "cell_type": "markdown",
   "metadata": {},
   "source": [
    "___\n",
    "### Select Features from Model\n",
    "\n",
    "Identify the variables quantity to make the best model."
   ]
  },
  {
   "cell_type": "code",
   "execution_count": 27,
   "metadata": {},
   "outputs": [
    {
     "name": "stdout",
     "output_type": "stream",
     "text": [
      "Thresh=0.0005735613, n=5, R2: 0.906\n",
      "Thresh=0.0055420516, n=4, R2: 0.904\n",
      "Thresh=0.0098309255, n=3, R2: 0.884\n",
      "Thresh=0.0208392566, n=2, R2: 0.878\n",
      "Thresh=1.2052446844, n=1, R2: 0.904\n"
     ]
    }
   ],
   "source": [
    "thresholds = sorted([i for i in perm_rf.feature_importances_ if i > 0.0001]) # insert model to selection\n",
    "score_group = []\n",
    "\n",
    "for thresh in thresholds:\n",
    "    \n",
    "    # select features using threshold\n",
    "    selection = SelectFromModel(perm_rf, threshold=thresh, prefit=True) # insert model to selection\n",
    "    select_X_train = selection.transform(X_train)\n",
    "    \n",
    "    # train model\n",
    "    selection_model = RandomForestRegressor(n_jobs=6, random_state=seed) # insert estimator to selection\n",
    "    selection_model.fit(select_X_train, Y_train)\n",
    "\n",
    "    # eval model\n",
    "    select_X_test = selection.transform(X_test)\n",
    "    predictions = selection_model.predict(select_X_test)\n",
    "    score = r2_score(Y_test, predictions)\n",
    "    print(\"Thresh=%.10f, n=%d, R2: %.3f\" % (thresh, select_X_train.shape[1], score))\n",
    "    score_group.append([score, thresh])"
   ]
  },
  {
   "cell_type": "code",
   "execution_count": 28,
   "metadata": {},
   "outputs": [
    {
     "name": "stdout",
     "output_type": "stream",
     "text": [
      "Best Treshold: 0.0005735613 Best Score R2: 0.91\n"
     ]
    }
   ],
   "source": [
    "# Calculate the best R2 and Treshold\n",
    "\n",
    "df_score_group = pd.DataFrame(data=score_group)\n",
    "df_score_group = df_score_group.round({0: 2, 1: 10})\n",
    "\n",
    "best_score = df_score_group.iloc[0,0]\n",
    "best_treshold = df_score_group.iloc[0,1]\n",
    "\n",
    "for i in range(1, len(df_score_group)):\n",
    "    if df_score_group.iloc[i,0] >= best_score: # >= because r2        \n",
    "        best_treshold = df_score_group.iloc[i,1]\n",
    "        best_score = df_score_group.iloc[i,0]\n",
    "        print(best_treshold, best_score)\n",
    "print(\"Best Treshold:\", best_treshold, \"Best Score R2:\", best_score)"
   ]
  },
  {
   "cell_type": "code",
   "execution_count": 29,
   "metadata": {},
   "outputs": [
    {
     "name": "stdout",
     "output_type": "stream",
     "text": [
      "(226, 8) (169, 5) (57, 5)\n"
     ]
    }
   ],
   "source": [
    "# Transform X_train and X_test with optimal columns quantity\n",
    "\n",
    "selection = SelectFromModel(perm_rf, threshold=(best_treshold - 0.000001), prefit=True) # insert model to selection\n",
    "\n",
    "X_train_selected = selection.transform(X_train)\n",
    "\n",
    "X_test_selected = selection.transform(X_test)\n",
    "\n",
    "print(X.shape, X_train_selected.shape, X_test_selected.shape)"
   ]
  },
  {
   "cell_type": "code",
   "execution_count": 30,
   "metadata": {},
   "outputs": [
    {
     "data": {
      "text/plain": [
       "Index(['area', 'condominium', 'iptu', 'rooms', 'box'], dtype='object')"
      ]
     },
     "execution_count": 30,
     "metadata": {},
     "output_type": "execute_result"
    }
   ],
   "source": [
    "# Recover columns names\n",
    "\n",
    "mask = selection.get_support() \n",
    "selected_features = [] \n",
    "feature_names = list(X_train.columns.values)\n",
    "\n",
    "for bool, feature in zip(mask, feature_names):\n",
    "    if bool:\n",
    "        selected_features.append(feature)\n",
    "    \n",
    "X_train = pd.DataFrame(X_train_selected, columns=selected_features)\n",
    "X_test = pd.DataFrame(X_test_selected, columns=selected_features)\n",
    "\n",
    "X_train.columns"
   ]
  },
  {
   "cell_type": "markdown",
   "metadata": {},
   "source": [
    "___\n",
    "## Machine Learning Algorithms\n",
    "\n",
    "In this section it will be possible to find a couple of machine learning algorithms used to find the best model to the project.\n",
    "\n",
    "\n",
    "### Evaluate Algorithms: Baseline\n",
    "\n",
    "The first step was to create a Linear Regression model with sckit learn default parameters to serve as a baseline model."
   ]
  },
  {
   "cell_type": "code",
   "execution_count": 31,
   "metadata": {},
   "outputs": [],
   "source": [
    "# To evaluation\n",
    "\n",
    "num_folds = 10\n",
    "kfold = KFold(n_splits=num_folds, shuffle=True, random_state=seed)\n",
    "scoring = 'r2'"
   ]
  },
  {
   "cell_type": "code",
   "execution_count": 32,
   "metadata": {},
   "outputs": [
    {
     "name": "stdout",
     "output_type": "stream",
     "text": [
      "Benchmark\n",
      "Regressão Linear\n",
      "\n",
      "MSE of benchmark:  68,944,067,819.49\n",
      "MAE of benchmark:  191,058.33\n",
      "EVS of benchmark: 0.87\n",
      "R2 of benchmark: 0.87\n"
     ]
    }
   ],
   "source": [
    "# Evaluating the baseline model - Benchmark\n",
    "# Linear Regression\n",
    "\n",
    "model = LinearRegression()\n",
    "model.fit(X_train, Y_train)\n",
    "predictions = model.predict(X_test)\n",
    "\n",
    "\n",
    "print(\"Benchmark\\nRegressão Linear\\n\")\n",
    "\n",
    "mse_benchmark = mean_squared_error(Y_test, predictions)\n",
    "print(\"MSE of benchmark: \", \"{0:,.2f}\".format(mse_benchmark))\n",
    "\n",
    "mae_benchmark = mean_absolute_error(Y_test, predictions)\n",
    "print(\"MAE of benchmark: \", \"{0:,.2f}\".format(mae_benchmark))\n",
    "\n",
    "evs_benchmark = explained_variance_score(Y_test, predictions)\n",
    "print(\"EVS of benchmark: %.2f\" % evs_benchmark)\n",
    "\n",
    "r2_benchmark = r2_score(Y_test, predictions)\n",
    "print(\"R2 of benchmark: %.2f\" % r2_benchmark)"
   ]
  },
  {
   "cell_type": "markdown",
   "metadata": {},
   "source": [
    "___\n",
    "### Evaluate Algorithms\n",
    "\n",
    "The first round to evaluate algorithms"
   ]
  },
  {
   "cell_type": "code",
   "execution_count": 57,
   "metadata": {},
   "outputs": [
    {
     "name": "stdout",
     "output_type": "stream",
     "text": [
      "LR 0.870\n",
      "LASSO 0.870\n",
      "EN 0.795\n",
      "KNN 0.618\n",
      "CART 0.833\n",
      "SVR -0.179\n"
     ]
    }
   ],
   "source": [
    "# Spot-Check Algorithms\n",
    "models = []\n",
    "results = []\n",
    "names = []\n",
    "\n",
    "models.append(('LR', LinearRegression(n_jobs=6))) \n",
    "models.append(('LASSO', Lasso())) \n",
    "models.append(('EN', ElasticNet())) \n",
    "models.append(('KNN', KNeighborsRegressor(n_jobs=6))) \n",
    "models.append(('CART', DecisionTreeRegressor())) \n",
    "models.append(('SVR', SVR()))\n",
    "\n",
    "# evaluate each model in turn\n",
    "for name, model in models:\n",
    "    cv_results = cross_val_score(model, X_train, Y_train, cv=kfold, scoring='r2')\n",
    "    results.append(cv_results)\n",
    "    names.append(name)\n",
    "    print(name, \"{0:,.3f}\".format(cv_results.mean()))"
   ]
  },
  {
   "cell_type": "code",
   "execution_count": 58,
   "metadata": {},
   "outputs": [
    {
     "data": {
      "image/png": "[encoded data removed]",
      "text/plain": [
       "<Figure size 720x360 with 1 Axes>"
      ]
     },
     "metadata": {
      "image/png": {
       "height": 357,
       "width": 622
      }
     },
     "output_type": "display_data"
    }
   ],
   "source": [
    "# Compare Algorithms\n",
    "sns.set()\n",
    "fig = plt.figure(figsize=(10,5))\n",
    "fig.suptitle('Algorithms Comparation', weight='bold', size=12)\n",
    "plt.ylabel('R2', weight='bold', size=12)\n",
    "plt.xlabel('Algorithms', weight='bold', size=12)\n",
    "ax = fig.add_subplot(111)\n",
    "plt.boxplot(results)\n",
    "ax.set_xticklabels(names)\n",
    "plt.show()"
   ]
  },
  {
   "cell_type": "markdown",
   "metadata": {},
   "source": [
    "___\n",
    "### Evaluate Algorithms: Standardization\n",
    "\n",
    "In this second round, a standardization into a pipepline process was used."
   ]
  },
  {
   "cell_type": "code",
   "execution_count": 59,
   "metadata": {},
   "outputs": [
    {
     "name": "stdout",
     "output_type": "stream",
     "text": [
      "ScaledLR 0.870\n",
      "ScaledLASSO 0.870\n",
      "ScaledEN 0.833\n",
      "ScaledKNN 0.830\n",
      "ScaledCART 0.829\n",
      "ScaledSVR -0.179\n"
     ]
    }
   ],
   "source": [
    "# Standardize the dataset\n",
    "\n",
    "results = []\n",
    "names = []\n",
    "pipelines = []\n",
    "\n",
    "pipelines.append(('ScaledLR', Pipeline([('Scaler', StandardScaler()),('LR',\n",
    "LinearRegression())])))\n",
    "pipelines.append(('ScaledLASSO', Pipeline([('Scaler', StandardScaler()),('LASSO',\n",
    "    Lasso())])))\n",
    "pipelines.append(('ScaledEN', Pipeline([('Scaler', StandardScaler()),('EN', ElasticNet())])))\n",
    "pipelines.append(('ScaledKNN', Pipeline([('Scaler', StandardScaler()),('KNN', KNeighborsRegressor())])))\n",
    "pipelines.append(('ScaledCART', Pipeline([('Scaler', StandardScaler()),('CART', DecisionTreeRegressor())])))\n",
    "pipelines.append(('ScaledSVR', Pipeline([('Scaler', StandardScaler()),('SVR', SVR())]))) \n",
    "\n",
    "\n",
    "for name, model in pipelines:\n",
    "    cv_results = cross_val_score(model, X_train, Y_train, cv=kfold, scoring='r2')\n",
    "    results.append(cv_results)\n",
    "    names.append(name)\n",
    "    print(name, \"{0:,.3f}\".format(cv_results.mean()))"
   ]
  },
  {
   "cell_type": "code",
   "execution_count": 60,
   "metadata": {},
   "outputs": [
    {
     "data": {
      "image/png": "[encoded data removed]",
      "text/plain": [
       "<Figure size 720x360 with 1 Axes>"
      ]
     },
     "metadata": {
      "image/png": {
       "height": 357,
       "width": 622
      }
     },
     "output_type": "display_data"
    }
   ],
   "source": [
    "# Compare Algorithms\n",
    "sns.set()\n",
    "fig = plt.figure(figsize=(10,5))\n",
    "fig.suptitle('Algorithms Comparation', weight='bold', size=12)\n",
    "plt.ylabel('R2', weight='bold', size=12)\n",
    "plt.xlabel('Algorithms', weight='bold', size=12)\n",
    "ax = fig.add_subplot(111)\n",
    "plt.boxplot(results)\n",
    "ax.set_xticklabels(names)\n",
    "plt.show()"
   ]
  },
  {
   "cell_type": "markdown",
   "metadata": {},
   "source": [
    "___\n",
    "### Ensemble Methods\n",
    "\n",
    "The third round, with ensemble algorithms, we have better results."
   ]
  },
  {
   "cell_type": "code",
   "execution_count": 61,
   "metadata": {},
   "outputs": [
    {
     "name": "stdout",
     "output_type": "stream",
     "text": [
      "ScaledAB 0.894\n",
      "ScaledGBM 0.883\n",
      "ScaledRF 0.881\n",
      "ScaledET 0.894\n",
      "ScaledXGB 0.871\n"
     ]
    }
   ],
   "source": [
    "import os # Only because XGB has a memory error; another option: conda install nomkl\n",
    "os.environ['KMP_DUPLICATE_LIB_OK']='True'\n",
    "\n",
    "# ensembles\n",
    "ensembles = []\n",
    "results = []\n",
    "names = []\n",
    "\n",
    "ensembles.append(('ScaledAB', \n",
    "                  Pipeline([('Scaler', StandardScaler()),('AB', AdaBoostRegressor(random_state=seed))])))\n",
    "\n",
    "ensembles.append(('ScaledGBM', \n",
    "                  Pipeline([('Scaler', StandardScaler()),('GBM', GradientBoostingRegressor(random_state=seed))])))\n",
    "\n",
    "ensembles.append(('ScaledRF', \n",
    "                  Pipeline([('Scaler', StandardScaler()),('RF', RandomForestRegressor(n_jobs=6, random_state=seed))])))\n",
    "\n",
    "ensembles.append(('ScaledET', \n",
    "                  Pipeline([('Scaler', StandardScaler()),('ET', ExtraTreesRegressor(n_jobs=6, random_state=seed))])))\n",
    "\n",
    "ensembles.append(('ScaledXGB', \n",
    "                  Pipeline([('Scaler', StandardScaler()),('XGB', XGBRegressor(n_jobs=6, seed=seed))])))\n",
    "\n",
    "\n",
    "\n",
    "for name, model in ensembles:\n",
    "    cv_results = cross_val_score(model, X_train, Y_train, cv=kfold, scoring='r2')\n",
    "    results.append(cv_results)\n",
    "    names.append(name)\n",
    "    print(name, \"{0:,.3f}\".format(cv_results.mean()))\n"
   ]
  },
  {
   "cell_type": "code",
   "execution_count": 62,
   "metadata": {},
   "outputs": [
    {
     "data": {
      "image/png": "[encoded data removed]",
      "text/plain": [
       "<Figure size 720x360 with 1 Axes>"
      ]
     },
     "metadata": {
      "image/png": {
       "height": 357,
       "width": 621
      }
     },
     "output_type": "display_data"
    }
   ],
   "source": [
    "# Compare Algorithms\n",
    "sns.set()\n",
    "fig = plt.figure(figsize=(10,5))\n",
    "fig.suptitle('Algorithms Comparation', weight='bold', size=12)\n",
    "plt.ylabel('R2', weight='bold', size=12)\n",
    "plt.xlabel('Algorithms', weight='bold', size=12)\n",
    "ax = fig.add_subplot(111)\n",
    "plt.boxplot(results)\n",
    "ax.set_xticklabels(names)\n",
    "plt.show()"
   ]
  },
  {
   "cell_type": "markdown",
   "metadata": {},
   "source": [
    "___\n",
    "### Tuning\n",
    "\n",
    "The best two algorithms were: AdaBboost and ExtraTrees. After the tunning both, we have the best result with ExtraTree."
   ]
  },
  {
   "cell_type": "code",
   "execution_count": 63,
   "metadata": {
    "scrolled": true
   },
   "outputs": [
    {
     "name": "stdout",
     "output_type": "stream",
     "text": [
      "Best: 0.90\n",
      " {'learning_rate': 0.05, 'n_estimators': 250}\n",
      "0.89 (0.04) {'learning_rate': 0.05, 'n_estimators': 20}\n",
      "0.89 (0.04) {'learning_rate': 0.05, 'n_estimators': 30}\n",
      "0.89 (0.04) {'learning_rate': 0.05, 'n_estimators': 40}\n",
      "0.89 (0.04) {'learning_rate': 0.05, 'n_estimators': 50}\n",
      "0.89 (0.04) {'learning_rate': 0.05, 'n_estimators': 60}\n",
      "0.89 (0.04) {'learning_rate': 0.05, 'n_estimators': 70}\n",
      "0.89 (0.04) {'learning_rate': 0.05, 'n_estimators': 80}\n",
      "0.89 (0.04) {'learning_rate': 0.05, 'n_estimators': 90}\n",
      "0.89 (0.04) {'learning_rate': 0.05, 'n_estimators': 100}\n",
      "0.89 (0.04) {'learning_rate': 0.05, 'n_estimators': 110}\n",
      "0.89 (0.04) {'learning_rate': 0.05, 'n_estimators': 120}\n",
      "0.89 (0.04) {'learning_rate': 0.05, 'n_estimators': 130}\n",
      "0.90 (0.04) {'learning_rate': 0.05, 'n_estimators': 140}\n",
      "0.90 (0.04) {'learning_rate': 0.05, 'n_estimators': 150}\n",
      "0.90 (0.04) {'learning_rate': 0.05, 'n_estimators': 160}\n",
      "0.90 (0.04) {'learning_rate': 0.05, 'n_estimators': 170}\n",
      "0.90 (0.04) {'learning_rate': 0.05, 'n_estimators': 180}\n",
      "0.90 (0.04) {'learning_rate': 0.05, 'n_estimators': 190}\n",
      "0.90 (0.04) {'learning_rate': 0.05, 'n_estimators': 200}\n",
      "0.90 (0.04) {'learning_rate': 0.05, 'n_estimators': 210}\n",
      "0.90 (0.04) {'learning_rate': 0.05, 'n_estimators': 220}\n",
      "0.90 (0.04) {'learning_rate': 0.05, 'n_estimators': 230}\n",
      "0.90 (0.04) {'learning_rate': 0.05, 'n_estimators': 240}\n",
      "0.90 (0.04) {'learning_rate': 0.05, 'n_estimators': 250}\n",
      "0.89 (0.04) {'learning_rate': 0.01, 'n_estimators': 20}\n",
      "0.89 (0.04) {'learning_rate': 0.01, 'n_estimators': 30}\n",
      "0.89 (0.04) {'learning_rate': 0.01, 'n_estimators': 40}\n",
      "0.89 (0.04) {'learning_rate': 0.01, 'n_estimators': 50}\n",
      "0.89 (0.04) {'learning_rate': 0.01, 'n_estimators': 60}\n",
      "0.89 (0.04) {'learning_rate': 0.01, 'n_estimators': 70}\n",
      "0.89 (0.04) {'learning_rate': 0.01, 'n_estimators': 80}\n",
      "0.89 (0.04) {'learning_rate': 0.01, 'n_estimators': 90}\n",
      "0.89 (0.04) {'learning_rate': 0.01, 'n_estimators': 100}\n",
      "0.89 (0.04) {'learning_rate': 0.01, 'n_estimators': 110}\n",
      "0.89 (0.04) {'learning_rate': 0.01, 'n_estimators': 120}\n",
      "0.89 (0.04) {'learning_rate': 0.01, 'n_estimators': 130}\n",
      "0.89 (0.04) {'learning_rate': 0.01, 'n_estimators': 140}\n",
      "0.89 (0.04) {'learning_rate': 0.01, 'n_estimators': 150}\n",
      "0.89 (0.04) {'learning_rate': 0.01, 'n_estimators': 160}\n",
      "0.89 (0.04) {'learning_rate': 0.01, 'n_estimators': 170}\n",
      "0.89 (0.04) {'learning_rate': 0.01, 'n_estimators': 180}\n",
      "0.89 (0.04) {'learning_rate': 0.01, 'n_estimators': 190}\n",
      "0.89 (0.04) {'learning_rate': 0.01, 'n_estimators': 200}\n",
      "0.89 (0.04) {'learning_rate': 0.01, 'n_estimators': 210}\n",
      "0.89 (0.04) {'learning_rate': 0.01, 'n_estimators': 220}\n",
      "0.89 (0.04) {'learning_rate': 0.01, 'n_estimators': 230}\n",
      "0.89 (0.04) {'learning_rate': 0.01, 'n_estimators': 240}\n",
      "0.89 (0.04) {'learning_rate': 0.01, 'n_estimators': 250}\n"
     ]
    }
   ],
   "source": [
    "# Tunning AdaBoost\n",
    "\n",
    "'''\n",
    "# Initial configuration\n",
    "param_grid = {\n",
    "              'n_estimators':range(20,151,10),\n",
    "              'learning_rate':[1, 0.5, 0.1],\n",
    "             }\n",
    "'''\n",
    "\n",
    "# Final configuration\n",
    "param_grid = {'n_estimators':range(20,251,10),\n",
    "              'learning_rate':[0.05, 0.01],\n",
    "             }\n",
    "\n",
    "model = AdaBoostRegressor(random_state=seed)\n",
    "grid = GridSearchCV(estimator=model, param_grid=param_grid, scoring='r2', cv=kfold, n_jobs=6)\n",
    "grid_result = grid.fit(X_train, Y_train)\n",
    "\n",
    "print(\"Best:\", \"{0:,.2f}\\n\".format(grid_result.best_score_), grid_result.best_params_)\n",
    "means = grid_result.cv_results_['mean_test_score']\n",
    "stds = grid_result.cv_results_['std_test_score']\n",
    "params = grid_result.cv_results_['params']\n",
    "for mean, stdev, param in zip(means, stds, params):\n",
    "    print(\"{0:,.2f}\".format(mean), '(' + str(\"{0:,.2f}\".format(stdev)) + ')', param)"
   ]
  },
  {
   "cell_type": "code",
   "execution_count": 64,
   "metadata": {},
   "outputs": [
    {
     "name": "stdout",
     "output_type": "stream",
     "text": [
      "Best R2: 0.90\n",
      "\n",
      "learning_rate 0.05\n",
      "n_estimators 250\n"
     ]
    }
   ],
   "source": [
    "print(\"Best R2:\", \"{0:,.2f}\\n\".format(grid_result.best_score_))\n",
    "for item, value in grid_result.best_params_.items():\n",
    "    print (item, value)"
   ]
  },
  {
   "cell_type": "code",
   "execution_count": 65,
   "metadata": {},
   "outputs": [
    {
     "name": "stdout",
     "output_type": "stream",
     "text": [
      "Best: 0.91\n",
      " {'max_depth': 9, 'min_samples_leaf': 1, 'min_samples_split': 4, 'n_estimators': 40}\n",
      "0.90 (0.04) {'max_depth': 9, 'min_samples_leaf': 1, 'min_samples_split': 4, 'n_estimators': 20}\n",
      "0.91 (0.04) {'max_depth': 9, 'min_samples_leaf': 1, 'min_samples_split': 4, 'n_estimators': 30}\n",
      "0.91 (0.04) {'max_depth': 9, 'min_samples_leaf': 1, 'min_samples_split': 4, 'n_estimators': 40}\n",
      "0.90 (0.04) {'max_depth': 9, 'min_samples_leaf': 1, 'min_samples_split': 4, 'n_estimators': 50}\n",
      "0.90 (0.03) {'max_depth': 9, 'min_samples_leaf': 1, 'min_samples_split': 6, 'n_estimators': 20}\n",
      "0.90 (0.03) {'max_depth': 9, 'min_samples_leaf': 1, 'min_samples_split': 6, 'n_estimators': 30}\n",
      "0.90 (0.03) {'max_depth': 9, 'min_samples_leaf': 1, 'min_samples_split': 6, 'n_estimators': 40}\n",
      "0.90 (0.03) {'max_depth': 9, 'min_samples_leaf': 1, 'min_samples_split': 6, 'n_estimators': 50}\n"
     ]
    }
   ],
   "source": [
    "# Tunning ExtraTreesRegressor\n",
    "\n",
    "'''\n",
    "# Initial configuration\n",
    "param_grid = {\n",
    "              'n_estimators':range(20,151,10),\n",
    "              'max_depth':[1, 3, 5, 7, 9],\n",
    "              'min_samples_split':[2, 4, 8],\n",
    "              'min_samples_leaf':[1, 3, 5, 7, 9]\n",
    "             }\n",
    "'''\n",
    "\n",
    "# Final configuration\n",
    "param_grid = {'n_estimators':range(20, 51,10),\n",
    "              'max_depth':[9],\n",
    "              'min_samples_split':[4, 6],\n",
    "              'min_samples_leaf':[1]\n",
    "             }\n",
    "\n",
    "model = ExtraTreesRegressor(random_state=seed, n_jobs=6)\n",
    "grid = GridSearchCV(estimator=model, param_grid=param_grid, scoring='r2', cv=kfold, n_jobs=6)\n",
    "grid_result = grid.fit(X_train, Y_train)\n",
    "\n",
    "print(\"Best:\", \"{0:,.2f}\\n\".format(grid_result.best_score_), grid_result.best_params_)\n",
    "means = grid_result.cv_results_['mean_test_score']\n",
    "stds = grid_result.cv_results_['std_test_score']\n",
    "params = grid_result.cv_results_['params']\n",
    "for mean, stdev, param in zip(means, stds, params):\n",
    "    print(\"{0:,.2f}\".format(mean), '(' + str(\"{0:,.2f}\".format(stdev)) + ')', param)"
   ]
  },
  {
   "cell_type": "code",
   "execution_count": 66,
   "metadata": {},
   "outputs": [
    {
     "name": "stdout",
     "output_type": "stream",
     "text": [
      "Best R2: 0.91\n",
      "\n",
      "max_depth 9\n",
      "min_samples_leaf 1\n",
      "min_samples_split 4\n",
      "n_estimators 40\n"
     ]
    }
   ],
   "source": [
    "print(\"Best R2:\", \"{0:,.2f}\\n\".format(grid_result.best_score_))\n",
    "for item, value in grid_result.best_params_.items():\n",
    "    print (item, value)"
   ]
  },
  {
   "cell_type": "markdown",
   "metadata": {},
   "source": [
    "___\n",
    "## Final Model\n",
    "\n",
    "The final model was selected with ExtraTrees and its benchmarks measures were better than the baseline model."
   ]
  },
  {
   "cell_type": "code",
   "execution_count": 44,
   "metadata": {},
   "outputs": [
    {
     "name": "stdout",
     "output_type": "stream",
     "text": [
      "MSE:  49,298,699,950.05\n",
      "MAE do benchmark:  154,588.43\n",
      "EVS do benchmark: 0.91\n",
      "R2: 0.91\n"
     ]
    }
   ],
   "source": [
    "model = ExtraTreesRegressor(n_estimators=grid_result.best_params_['n_estimators'],\n",
    "                            max_depth=grid_result.best_params_['max_depth'],\n",
    "                            min_samples_split=grid_result.best_params_['min_samples_split'],\n",
    "                            min_samples_leaf=grid_result.best_params_['min_samples_leaf'],\n",
    "                            random_state=seed, n_jobs=6)\n",
    "\n",
    "model.fit(X_train, Y_train)\n",
    "\n",
    "predictions = model.predict(X_test)\n",
    "\n",
    "mse_final_model = mean_squared_error(Y_test, predictions)\n",
    "print(\"MSE: \", \"{0:,.2f}\".format(mse_final_model))\n",
    "\n",
    "mae_final_model = mean_absolute_error(Y_test, predictions)\n",
    "print(\"MAE do benchmark: \", \"{0:,.2f}\".format(mae_final_model))\n",
    "\n",
    "evs_final_model = explained_variance_score(Y_test, predictions)\n",
    "print(\"EVS do benchmark: %.2f\" % evs_final_model)\n",
    "\n",
    "r2_final_model = r2_score(Y_test, predictions)\n",
    "print(\"R2: %.2f\" % r2_final_model)"
   ]
  },
  {
   "cell_type": "code",
   "execution_count": 45,
   "metadata": {},
   "outputs": [
    {
     "name": "stdout",
     "output_type": "stream",
     "text": [
      "MSE of baseline:  68,944,067,819.49\n",
      "MAE of baseline:  191,058.33\n",
      "EVS of baseline: 0.87\n",
      "R2 of baseline: 0.87\n",
      "\n",
      "MSE of final model:  49,298,699,950.05\n",
      "MAE of final model:  154,588.43\n",
      "EVS of final model: 0.91\n",
      "R2 of final model:  0.91\n"
     ]
    }
   ],
   "source": [
    "# Compare benchmarks: baseline model x final model\n",
    "\n",
    "print(\"MSE of baseline: \", \"{0:,.2f}\".format(mse_benchmark))\n",
    "print(\"MAE of baseline: \", \"{0:,.2f}\".format(mae_benchmark))\n",
    "print(\"EVS of baseline: %.2f\" % evs_benchmark)\n",
    "print(\"R2 of baseline: %.2f\" % r2_benchmark)\n",
    "\n",
    "print(\"\\nMSE of final model: \", \"{0:,.2f}\".format(mse_final_model))\n",
    "print(\"MAE of final model: \", \"{0:,.2f}\".format(mae_final_model))\n",
    "print(\"EVS of final model: %.2f\" % evs_final_model)\n",
    "print('R2 of final model: ', \"{0:,.2f}\".format(r2_final_model))\n"
   ]
  },
  {
   "cell_type": "code",
   "execution_count": 46,
   "metadata": {},
   "outputs": [
    {
     "name": "stdout",
     "output_type": "stream",
     "text": [
      "Feature: area                 Importance: 0.87\n",
      "Feature: condominium          Importance: 0.06\n",
      "Feature: iptu                 Importance: 0.04\n",
      "Feature: rooms                Importance: 0.02\n",
      "Feature: box                  Importance: 0.01\n"
     ]
    }
   ],
   "source": [
    "# Features importance identification\n",
    "# Source: https://towardsdatascience.com/improving-random-forest-in-python-part-1-893916666cd\n",
    "\n",
    "importances = list(model.feature_importances_)\n",
    "\n",
    "importances.sort(reverse=True)\n",
    "\n",
    "feature_importances = [(feature, round(importance, 2)) for feature, importance in zip(X_train.columns, importances)]\n",
    "\n",
    "feature_importances = sorted(feature_importances, key = lambda x: x[1], reverse = True)\n",
    "\n",
    "[print('Feature: {:20} Importance: {}'.format(*pair)) for pair in feature_importances];"
   ]
  },
  {
   "cell_type": "code",
   "execution_count": 47,
   "metadata": {},
   "outputs": [
    {
     "data": {
      "image/png": "[encoded data removed]",
      "text/plain": [
       "<Figure size 432x288 with 1 Axes>"
      ]
     },
     "metadata": {
      "image/png": {
       "height": 337,
       "width": 392
      }
     },
     "output_type": "display_data"
    }
   ],
   "source": [
    "# Features importance graphic identifition\n",
    "# Source: https://towardsdatascience.com/improving-random-forest-in-python-part-1-893916666cd\n",
    "\n",
    "x_values = list(range(len(importances)))\n",
    "\n",
    "plt.bar(x_values, importances, orientation = 'vertical', color = 'r', edgecolor = 'k', linewidth = 1.2)\n",
    "\n",
    "plt.xticks(x_values, X_train.columns, rotation='vertical')\n",
    "\n",
    "plt.ylabel('Importance'); \n",
    "plt.xlabel('Features'); \n",
    "plt.title('Features Importance');"
   ]
  },
  {
   "cell_type": "code",
   "execution_count": 48,
   "metadata": {},
   "outputs": [
    {
     "data": {
      "image/png": "[encoded data removed]",
      "text/plain": [
       "<Figure size 432x288 with 1 Axes>"
      ]
     },
     "metadata": {
      "image/png": {
       "height": 337,
       "width": 398
      }
     },
     "output_type": "display_data"
    }
   ],
   "source": [
    "# Graphical identification of cumulative importance of features\n",
    "# Source: https://towardsdatascience.com/improving-random-forest-in-python-part-1-893916666cd\n",
    "\n",
    "sorted_importances = [importance[1] for importance in feature_importances]\n",
    "sorted_features = [importance[0] for importance in feature_importances]\n",
    "\n",
    "cumulative_importances = np.cumsum(sorted_importances)\n",
    "\n",
    "plt.plot(x_values, cumulative_importances, 'g-')\n",
    "\n",
    "plt.hlines(y = 0.95, xmin=0, xmax=len(sorted_importances), color = 'r', linestyles = 'dashed')\n",
    "\n",
    "plt.xticks(x_values, sorted_features, rotation = 'vertical')\n",
    "\n",
    "plt.xlabel('Features'); plt.ylabel('Cumulative Importance'); \n",
    "plt.title('Cumulative importance of features');"
   ]
  },
  {
   "cell_type": "markdown",
   "metadata": {},
   "source": [
    "___\n",
    "## To predict the price of a particular property\n",
    "\n",
    "Here we can test to predict the price of any apartment. For this, just input de numbers for each feature in the model."
   ]
  },
  {
   "cell_type": "code",
   "execution_count": 49,
   "metadata": {},
   "outputs": [
    {
     "name": "stdout",
     "output_type": "stream",
     "text": [
      "Variables order:\n",
      "\n",
      " Index(['area', 'condominium', 'iptu', 'rooms', 'box'], dtype='object')\n"
     ]
    }
   ],
   "source": [
    "print(\"Variables order:\\n\\n\", X_train.columns)"
   ]
  },
  {
   "cell_type": "code",
   "execution_count": 50,
   "metadata": {},
   "outputs": [
    {
     "name": "stdout",
     "output_type": "stream",
     "text": [
      "Predict price: 798,789.00\n"
     ]
    }
   ],
   "source": [
    "# To predict the price of an apartment with: 119m2, R$750 condominium, R$2100 iptu, 3 rooms and 2 garages\n",
    "\n",
    "imovel = [[119, 750, 2100, 3, 2]]\n",
    "\n",
    "prev = int(model.predict(imovel))\n",
    "\n",
    "print (\"Predict price:\", \"{0:,.2f}\".format(prev))\n"
   ]
  },
  {
   "cell_type": "code",
   "execution_count": 51,
   "metadata": {},
   "outputs": [
    {
     "data": {
      "text/html": [
       "<div>\n",
       "<style scoped>\n",
       "    .dataframe tbody tr th:only-of-type {\n",
       "        vertical-align: middle;\n",
       "    }\n",
       "\n",
       "    .dataframe tbody tr th {\n",
       "        vertical-align: top;\n",
       "    }\n",
       "\n",
       "    .dataframe thead th {\n",
       "        text-align: right;\n",
       "    }\n",
       "</style>\n",
       "<table border=\"1\" class=\"dataframe\">\n",
       "  <thead>\n",
       "    <tr style=\"text-align: right;\">\n",
       "      <th></th>\n",
       "      <th>price</th>\n",
       "      <th>area</th>\n",
       "      <th>district</th>\n",
       "      <th>condominium</th>\n",
       "      <th>iptu</th>\n",
       "      <th>rooms</th>\n",
       "      <th>box</th>\n",
       "    </tr>\n",
       "  </thead>\n",
       "  <tbody>\n",
       "    <tr>\n",
       "      <th>15</th>\n",
       "      <td>790000.0</td>\n",
       "      <td>121.18</td>\n",
       "      <td>Mont Serrat</td>\n",
       "      <td>798.0</td>\n",
       "      <td>2030.0</td>\n",
       "      <td>3</td>\n",
       "      <td>2</td>\n",
       "    </tr>\n",
       "    <tr>\n",
       "      <th>28</th>\n",
       "      <td>945000.0</td>\n",
       "      <td>136.87</td>\n",
       "      <td>Mont Serrat</td>\n",
       "      <td>1600.0</td>\n",
       "      <td>1200.0</td>\n",
       "      <td>3</td>\n",
       "      <td>2</td>\n",
       "    </tr>\n",
       "    <tr>\n",
       "      <th>33</th>\n",
       "      <td>930000.0</td>\n",
       "      <td>175.92</td>\n",
       "      <td>Mont Serrat</td>\n",
       "      <td>1200.0</td>\n",
       "      <td>3500.0</td>\n",
       "      <td>3</td>\n",
       "      <td>2</td>\n",
       "    </tr>\n",
       "    <tr>\n",
       "      <th>56</th>\n",
       "      <td>860000.0</td>\n",
       "      <td>143.59</td>\n",
       "      <td>Mont Serrat</td>\n",
       "      <td>1063.0</td>\n",
       "      <td>2700.0</td>\n",
       "      <td>3</td>\n",
       "      <td>2</td>\n",
       "    </tr>\n",
       "    <tr>\n",
       "      <th>63</th>\n",
       "      <td>1100000.0</td>\n",
       "      <td>103.68</td>\n",
       "      <td>Mont Serrat</td>\n",
       "      <td>990.0</td>\n",
       "      <td>2800.0</td>\n",
       "      <td>3</td>\n",
       "      <td>2</td>\n",
       "    </tr>\n",
       "    <tr>\n",
       "      <th>85</th>\n",
       "      <td>750000.0</td>\n",
       "      <td>124.12</td>\n",
       "      <td>Mont Serrat</td>\n",
       "      <td>900.0</td>\n",
       "      <td>1964.0</td>\n",
       "      <td>3</td>\n",
       "      <td>2</td>\n",
       "    </tr>\n",
       "    <tr>\n",
       "      <th>112</th>\n",
       "      <td>995000.0</td>\n",
       "      <td>152.93</td>\n",
       "      <td>Mont Serrat</td>\n",
       "      <td>1150.0</td>\n",
       "      <td>3220.0</td>\n",
       "      <td>3</td>\n",
       "      <td>2</td>\n",
       "    </tr>\n",
       "    <tr>\n",
       "      <th>118</th>\n",
       "      <td>795000.0</td>\n",
       "      <td>122.70</td>\n",
       "      <td>Mont Serrat</td>\n",
       "      <td>700.0</td>\n",
       "      <td>1250.0</td>\n",
       "      <td>3</td>\n",
       "      <td>2</td>\n",
       "    </tr>\n",
       "    <tr>\n",
       "      <th>119</th>\n",
       "      <td>1060000.0</td>\n",
       "      <td>106.00</td>\n",
       "      <td>Mont Serrat</td>\n",
       "      <td>900.0</td>\n",
       "      <td>3000.0</td>\n",
       "      <td>3</td>\n",
       "      <td>2</td>\n",
       "    </tr>\n",
       "    <tr>\n",
       "      <th>142</th>\n",
       "      <td>890000.0</td>\n",
       "      <td>99.23</td>\n",
       "      <td>Mont Serrat</td>\n",
       "      <td>1150.0</td>\n",
       "      <td>2000.0</td>\n",
       "      <td>3</td>\n",
       "      <td>2</td>\n",
       "    </tr>\n",
       "    <tr>\n",
       "      <th>210</th>\n",
       "      <td>890000.0</td>\n",
       "      <td>186.13</td>\n",
       "      <td>Mont Serrat</td>\n",
       "      <td>1027.0</td>\n",
       "      <td>3000.0</td>\n",
       "      <td>3</td>\n",
       "      <td>2</td>\n",
       "    </tr>\n",
       "    <tr>\n",
       "      <th>217</th>\n",
       "      <td>950000.0</td>\n",
       "      <td>113.76</td>\n",
       "      <td>Mont Serrat</td>\n",
       "      <td>1000.0</td>\n",
       "      <td>1500.0</td>\n",
       "      <td>3</td>\n",
       "      <td>2</td>\n",
       "    </tr>\n",
       "  </tbody>\n",
       "</table>\n",
       "</div>"
      ],
      "text/plain": [
       "         price    area     district  condominium    iptu  rooms  box\n",
       "15    790000.0  121.18  Mont Serrat        798.0  2030.0      3    2\n",
       "28    945000.0  136.87  Mont Serrat       1600.0  1200.0      3    2\n",
       "33    930000.0  175.92  Mont Serrat       1200.0  3500.0      3    2\n",
       "56    860000.0  143.59  Mont Serrat       1063.0  2700.0      3    2\n",
       "63   1100000.0  103.68  Mont Serrat        990.0  2800.0      3    2\n",
       "85    750000.0  124.12  Mont Serrat        900.0  1964.0      3    2\n",
       "112   995000.0  152.93  Mont Serrat       1150.0  3220.0      3    2\n",
       "118   795000.0  122.70  Mont Serrat        700.0  1250.0      3    2\n",
       "119  1060000.0  106.00  Mont Serrat        900.0  3000.0      3    2\n",
       "142   890000.0   99.23  Mont Serrat       1150.0  2000.0      3    2\n",
       "210   890000.0  186.13  Mont Serrat       1027.0  3000.0      3    2\n",
       "217   950000.0  113.76  Mont Serrat       1000.0  1500.0      3    2"
      ]
     },
     "execution_count": 51,
     "metadata": {},
     "output_type": "execute_result"
    }
   ],
   "source": [
    "# Compare with competitors\n",
    "# Who are the others competitors?\n",
    "\n",
    "df_2box_montserrat = df_original.query(\"(district == 'Mont Serrat' & box == '2' & rooms == '3')\")\n",
    "df_2box_montserrat"
   ]
  },
  {
   "cell_type": "code",
   "execution_count": 52,
   "metadata": {},
   "outputs": [
    {
     "data": {
      "text/plain": [
       "12"
      ]
     },
     "execution_count": 52,
     "metadata": {},
     "output_type": "execute_result"
    }
   ],
   "source": [
    "# Total of competitors\n",
    "\n",
    "df_2box_montserrat.shape[0]"
   ]
  },
  {
   "cell_type": "code",
   "execution_count": 53,
   "metadata": {},
   "outputs": [
    {
     "data": {
      "application/vnd.plotly.v1+json": {
       "config": {
        "linkText": "Export to plot.ly",
        "plotlyServerURL": "https://plot.ly",
        "showLink": false
       },
       "data": [
        {
         "marker": {
          "color": "blue"
         },
         "name": "kale",
         "type": "box",
         "uid": "71ab7e2e-1b5c-4f44-a938-af1cb608a96f",
         "x": [
          "Mont Serrat",
          "Mont Serrat",
          "Mont Serrat",
          "Mont Serrat",
          "Mont Serrat",
          "Mont Serrat",
          "Mont Serrat",
          "Mont Serrat",
          "Mont Serrat",
          "Mont Serrat",
          "Mont Serrat",
          "Mont Serrat"
         ],
         "y": [
          790000,
          945000,
          930000,
          860000,
          1100000,
          750000,
          995000,
          795000,
          1060000,
          890000,
          890000,
          950000
         ]
        }
       ],
       "layout": {
        "boxmode": "group",
        "yaxis": {
         "title": {
          "text": "preço de venda"
         },
         "zeroline": false
        }
       }
      },
      "text/html": [
       "<div id=\"66b3491c-d998-4bef-8082-407170f72b00\" style=\"height: 525px; width: 100%;\" class=\"plotly-graph-div\"></div><script type=\"text/javascript\">require([\"plotly\"], function(Plotly) { window.PLOTLYENV=window.PLOTLYENV || {};window.PLOTLYENV.BASE_URL=\"https://plot.ly\";Plotly.newPlot(\"66b3491c-d998-4bef-8082-407170f72b00\", [{\"marker\": {\"color\": \"blue\"}, \"name\": \"kale\", \"x\": [\"Mont Serrat\", \"Mont Serrat\", \"Mont Serrat\", \"Mont Serrat\", \"Mont Serrat\", \"Mont Serrat\", \"Mont Serrat\", \"Mont Serrat\", \"Mont Serrat\", \"Mont Serrat\", \"Mont Serrat\", \"Mont Serrat\"], \"y\": [790000.0, 945000.0, 930000.0, 860000.0, 1100000.0, 750000.0, 995000.0, 795000.0, 1060000.0, 890000.0, 890000.0, 950000.0], \"type\": \"box\", \"uid\": \"71ab7e2e-1b5c-4f44-a938-af1cb608a96f\"}], {\"boxmode\": \"group\", \"yaxis\": {\"title\": {\"text\": \"pre\\u00e7o de venda\"}, \"zeroline\": false}}, {\"showLink\": false, \"linkText\": \"Export to plot.ly\", \"plotlyServerURL\": \"https://plot.ly\"})});</script><script type=\"text/javascript\">window.addEventListener(\"resize\", function(){window._Plotly.Plots.resize(document.getElementById(\"66b3491c-d998-4bef-8082-407170f72b00\"));});</script>"
      ],
      "text/vnd.plotly.v1+html": [
       "<div id=\"66b3491c-d998-4bef-8082-407170f72b00\" style=\"height: 525px; width: 100%;\" class=\"plotly-graph-div\"></div><script type=\"text/javascript\">require([\"plotly\"], function(Plotly) { window.PLOTLYENV=window.PLOTLYENV || {};window.PLOTLYENV.BASE_URL=\"https://plot.ly\";Plotly.newPlot(\"66b3491c-d998-4bef-8082-407170f72b00\", [{\"marker\": {\"color\": \"blue\"}, \"name\": \"kale\", \"x\": [\"Mont Serrat\", \"Mont Serrat\", \"Mont Serrat\", \"Mont Serrat\", \"Mont Serrat\", \"Mont Serrat\", \"Mont Serrat\", \"Mont Serrat\", \"Mont Serrat\", \"Mont Serrat\", \"Mont Serrat\", \"Mont Serrat\"], \"y\": [790000.0, 945000.0, 930000.0, 860000.0, 1100000.0, 750000.0, 995000.0, 795000.0, 1060000.0, 890000.0, 890000.0, 950000.0], \"type\": \"box\", \"uid\": \"71ab7e2e-1b5c-4f44-a938-af1cb608a96f\"}], {\"boxmode\": \"group\", \"yaxis\": {\"title\": {\"text\": \"pre\\u00e7o de venda\"}, \"zeroline\": false}}, {\"showLink\": false, \"linkText\": \"Export to plot.ly\", \"plotlyServerURL\": \"https://plot.ly\"})});</script><script type=\"text/javascript\">window.addEventListener(\"resize\", function(){window._Plotly.Plots.resize(document.getElementById(\"66b3491c-d998-4bef-8082-407170f72b00\"));});</script>"
      ]
     },
     "metadata": {},
     "output_type": "display_data"
    }
   ],
   "source": [
    "# Competitors identification\n",
    "# boxplot: price\n",
    "\n",
    "x = df_2box_montserrat.district\n",
    "\n",
    "trace0 = go.Box(\n",
    "    y=df_2box_montserrat.price,\n",
    "    x=x,\n",
    "    name='kale',\n",
    "    marker=dict(\n",
    "        color='blue'\n",
    "    )\n",
    ")\n",
    "\n",
    "data = [trace0]\n",
    "layout = go.Layout(\n",
    "    yaxis=dict(\n",
    "        title='preço de venda',\n",
    "        zeroline=False\n",
    "    ),\n",
    "    boxmode='group'\n",
    ")\n",
    "\n",
    "fig = go.Figure(data=data, layout=layout)\n",
    "iplot(fig)"
   ]
  },
  {
   "cell_type": "code",
   "execution_count": 54,
   "metadata": {},
   "outputs": [
    {
     "data": {
      "image/png": "[encoded data removed]",
      "text/plain": [
       "<Figure size 720x360 with 1 Axes>"
      ]
     },
     "metadata": {
      "image/png": {
       "height": 353,
       "width": 637
      }
     },
     "output_type": "display_data"
    }
   ],
   "source": [
    "# Histogram: price\n",
    "sns.set()\n",
    "ax = df_2box_montserrat['price'].plot.hist(bins=60, alpha=0.5, figsize=(10, 5))\n",
    "ax.set_title('Distribuição dos preços dos imóveis', weight='bold', size=14)\n",
    "ax.set_ylabel(\"Frequência\", labelpad=20, weight='bold', size=12)\n",
    "ax.set_xlabel('Preços', labelpad=20, weight='bold', size=12)\n",
    "plt.show()"
   ]
  },
  {
   "cell_type": "code",
   "execution_count": null,
   "metadata": {},
   "outputs": [],
   "source": []
  }
 ],
 "metadata": {
  "kernelspec": {
   "display_name": "Python 3",
   "language": "python",
   "name": "python3"
  },
  "language_info": {
   "codemirror_mode": {
    "name": "ipython",
    "version": 3
   },
   "file_extension": ".py",
   "mimetype": "text/x-python",
   "name": "python",
   "nbconvert_exporter": "python",
   "pygments_lexer": "ipython3",
   "version": "3.6.8"
  }
 },
 "nbformat": 4,
 "nbformat_minor": 2
}
